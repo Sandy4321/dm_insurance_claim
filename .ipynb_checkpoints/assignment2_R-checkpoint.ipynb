{
 "cells": [
  {
   "cell_type": "code",
   "execution_count": 11,
   "metadata": {
    "collapsed": false
   },
   "outputs": [],
   "source": [
    "library(dplyr)\n",
    "library(ggplot2)"
   ]
  },
  {
   "cell_type": "code",
   "execution_count": 2,
   "metadata": {
    "collapsed": true
   },
   "outputs": [],
   "source": [
    "setwd(\"/Users/weizheng/Documents/data_science_data/data_mining_assignment2/\")\n",
    "train_set = read.csv(\"train_set.csv\")\n",
    "test_set = read.csv(\"test_set.csv\")"
   ]
  },
  {
   "cell_type": "markdown",
   "metadata": {
    "collapsed": true
   },
   "source": []
  },
  {
   "cell_type": "code",
   "execution_count": 13,
   "metadata": {
    "collapsed": false
   },
   "outputs": [
    {
     "data": {
      "text/plain": [
       "     Row_ID          Household_ID        Vehicle       Calendar_Year \n",
       " Min.   :       1   Min.   :      1   Min.   : 1.000   Min.   :2005  \n",
       " 1st Qu.: 3296073   1st Qu.:2184932   1st Qu.: 1.000   1st Qu.:2005  \n",
       " Median : 6592146   Median :4257083   Median : 2.000   Median :2006  \n",
       " Mean   : 6592146   Mean   :4128242   Mean   : 1.894   Mean   :2006  \n",
       " 3rd Qu.: 9888218   3rd Qu.:6281433   3rd Qu.: 2.000   3rd Qu.:2007  \n",
       " Max.   :13184290   Max.   :7542113   Max.   :29.000   Max.   :2007  \n",
       "                                                                     \n",
       "   Model_Year     Blind_Make       Blind_Model       Blind_Submodel    \n",
       " Min.   :1981   K      :1657185   K.7    :  597433   K.7.3  :  165298  \n",
       " 1st Qu.:1996   AJ     :1547886   AU.14  :  303444   AU.58.0:  150110  \n",
       " Median :2000   BW     :1265861   X.45   :  291959   AU.14.1:  141627  \n",
       " Mean   :1999   AU     :1071883   W.16   :  233343   AU.14.0:  137043  \n",
       " 3rd Qu.:2003   Y      : 848371   AU.11  :  203473   W.16.3 :  136104  \n",
       " Max.   :2009   X      : 807923   BO.38  :  194172   AU.11.3:  132679  \n",
       "                (Other):5985181   (Other):11360466   (Other):12321429  \n",
       "      Cat1         Cat2        Cat3        Cat4        Cat5        Cat6       \n",
       " B      :4017739   ?:4874164   ?:   3999   ?:5631649   ?:5637321   ?:  25981  \n",
       " I      :2654532   A:2191054   A:7488029   A:5723163   A:6683980   B:4265208  \n",
       " D      :2487951   B: 224045   B:2256802   B: 375053   B:  83709   C:3677694  \n",
       " F      :1305108   C:5895027   C:1270889   C:1454425   C: 779280   D:3604486  \n",
       " G      : 782602               D: 405724                           E:1173316  \n",
       " A      : 768871               E: 886816                           F: 437605  \n",
       " (Other):1167487               F: 872031                                      \n",
       " Cat7        Cat8        Cat9         Cat10       Cat11       Cat12      \n",
       " ?:7167634   ?:   3364   A: 2333508   ?:   3917   ?:  31469    :  28882  \n",
       " A:1050621   A:8626513   B:10850782   A:8573092   A:6951038   A:   2589  \n",
       " B: 233786   B:3673932                B:3969170   B:3174528   B:4348276  \n",
       " C:4618653   C: 880481                C: 638111   C:1103640   C:3619974  \n",
       " D: 113596                                        D: 319022   D:3525723  \n",
       "                                                  E: 816595   E:1196458  \n",
       "                                                  F: 787998   F: 462388  \n",
       "     OrdCat             Var1               Var2               Var3         \n",
       " 4      :5935475   Min.   :-2.57822   Min.   :-2.49339   Min.   :-2.79033  \n",
       " 2      :4146321   1st Qu.:-0.66590   1st Qu.:-0.81615   1st Qu.:-0.86969  \n",
       " 5      :2964704   Median :-0.31236   Median :-0.12451   Median :-0.22176  \n",
       " 3      :  93976   Mean   :-0.01012   Mean   :-0.06509   Mean   :-0.02543  \n",
       " 6      :  16198   3rd Qu.: 0.44293   3rd Qu.: 0.48068   3rd Qu.: 0.72700  \n",
       " 1      :  15835   Max.   : 5.14339   Max.   : 7.82942   Max.   : 5.56332  \n",
       " (Other):  11781                                                           \n",
       "      Var4               Var5                Var6               Var7         \n",
       " Min.   :-2.50822   Min.   :-3.350344   Min.   :-2.37666   Min.   :-2.77849  \n",
       " 1st Qu.:-0.78302   1st Qu.:-0.686024   1st Qu.:-0.68876   1st Qu.:-0.89849  \n",
       " Median :-0.10647   Median :-0.115098   Median :-0.23726   Median :-0.46842  \n",
       " Mean   :-0.05457   Mean   : 0.003839   Mean   :-0.04012   Mean   :-0.02421  \n",
       " 3rd Qu.: 0.48551   3rd Qu.: 0.533140   3rd Qu.: 0.49732   3rd Qu.: 0.82178  \n",
       " Max.   : 7.58926   Max.   : 4.018167   Max.   : 4.58429   Max.   : 4.12715  \n",
       "                                                                             \n",
       "      Var8              NVCat             NVVar1             NVVar2        \n",
       " Min.   :-2.16304   M      :5767944   Min.   :-0.23153   Min.   :-0.26612  \n",
       " 1st Qu.:-0.65177   O      :3416948   1st Qu.:-0.23153   1st Qu.:-0.26612  \n",
       " Median :-0.25686   N      :1328428   Median :-0.23153   Median :-0.26612  \n",
       " Mean   :-0.05856   L      : 804000   Mean   : 0.01468   Mean   : 0.01751  \n",
       " 3rd Qu.: 0.34098   J      : 559165   3rd Qu.:-0.23153   3rd Qu.:-0.26612  \n",
       " Max.   :47.35074   E      : 401274   Max.   : 6.62711   Max.   : 8.88308  \n",
       "                    (Other): 906531                                        \n",
       "     NVVar3             NVVar4          Claim_Amount      \n",
       " Min.   :-0.27234   Min.   :-0.25142   Min.   :    0.000  \n",
       " 1st Qu.:-0.27234   1st Qu.:-0.25142   1st Qu.:    0.000  \n",
       " Median :-0.27234   Median :-0.25142   Median :    0.000  \n",
       " Mean   : 0.01354   Mean   : 0.01851   Mean   :    1.361  \n",
       " 3rd Qu.:-0.27234   3rd Qu.:-0.25142   3rd Qu.:    0.000  \n",
       " Max.   : 8.69114   Max.   : 6.38880   Max.   :11440.750  \n",
       "                                                          "
      ]
     },
     "execution_count": 13,
     "metadata": {},
     "output_type": "execute_result"
    }
   ],
   "source": [
    "summary(train_set)"
   ]
  },
  {
   "cell_type": "code",
   "execution_count": 3,
   "metadata": {
    "collapsed": true
   },
   "outputs": [],
   "source": []
  },
  {
   "cell_type": "code",
   "execution_count": null,
   "metadata": {
    "collapsed": true
   },
   "outputs": [],
   "source": []
  }
 ],
 "metadata": {
  "kernelspec": {
   "display_name": "R",
   "language": "R",
   "name": "ir"
  },
  "language_info": {
   "codemirror_mode": "r",
   "file_extension": ".r",
   "mimetype": "text/x-r-source",
   "name": "R",
   "pygments_lexer": "r",
   "version": "3.2.2"
  }
 },
 "nbformat": 4,
 "nbformat_minor": 0
}
